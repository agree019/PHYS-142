{
 "cells": [
  {
   "cell_type": "markdown",
   "metadata": {},
   "source": [
    "# Master Functions - Model Data\n",
    "\n",
    "This notebook contains all required global variables and elemental information\n",
    "\n",
    "Every single notebook needs to import this one"
   ]
  },
  {
   "cell_type": "code",
   "execution_count": 2,
   "metadata": {
    "ExecuteTime": {
     "end_time": "2017-09-26T15:17:34.288779Z",
     "start_time": "2017-09-26T15:17:33.103628Z"
    },
    "collapsed": true
   },
   "outputs": [],
   "source": [
    "import numpy as np\n",
    "import scipy as sp\n",
    "import pandas as pd\n",
    "from scipy import interpolate\n",
    "import scipy.integrate as integrate\n",
    "\n",
    "import matplotlib as mpl\n",
    "import matplotlib.pyplot as plt\n",
    "%matplotlib inline\n",
    "\n",
    "# print ('Complete')"
   ]
  },
  {
   "cell_type": "markdown",
   "metadata": {},
   "source": [
    "## External Path definitions"
   ]
  },
  {
   "cell_type": "markdown",
   "metadata": {},
   "source": [
    "### Dark Photon Path Defniitions"
   ]
  },
  {
   "cell_type": "code",
   "execution_count": null,
   "metadata": {
    "collapsed": true
   },
   "outputs": [],
   "source": [
    "def photonSommerfeldPath(file):\n",
    "    '''\n",
    "    Path to dark photon Sommerfeld Data files\n",
    "    '''\n",
    "    path = 'DarkPhotonCapture/SommerfeldData/' + file\n",
    "    return path\n",
    "\n",
    "def photonContourPath(file):\n",
    "    '''\n",
    "    Path to dark photon Equilibrium time contour plots\n",
    "    '''\n",
    "    path = 'DarkPhotonCapture/ContourPlots/' + file\n",
    "    return path\n",
    "\n",
    "\n",
    "def photonApproxPath(file):\n",
    "    path = 'DarkPhotonCapture/ApproximationPlots/' + file\n",
    "    return path\n",
    "\n",
    "def photonSignalDataPath(file):\n",
    "    '''\n",
    "    Path to dark photon Signal Rate Data files\n",
    "    '''\n",
    "    path = 'DarkPhotonCapture/SignalRateData/' + file\n",
    "    return path\n",
    "\n",
    "def photonSignalPlotPath(file):\n",
    "    '''\n",
    "    Path to dark photon Signal Rate Plots\n",
    "    '''\n",
    "    path = 'DarkPhotonCapture/SignalRatePlots/' + file\n",
    "    return path\n",
    "\n",
    "def photonBranchPath(file):\n",
    "    '''\n",
    "    Path to dark photon Branching Ratio Data\n",
    "    '''\n",
    "    path = 'DarkPhotonCapture/BranchingRatioData/' + file\n",
    "    return path\n"
   ]
  },
  {
   "cell_type": "markdown",
   "metadata": {},
   "source": [
    "### Dark Higgs Path Definitions"
   ]
  },
  {
   "cell_type": "code",
   "execution_count": null,
   "metadata": {
    "ExecuteTime": {
     "end_time": "2017-09-22T16:32:39.229413Z",
     "start_time": "2017-09-22T16:32:39.189413Z"
    },
    "collapsed": true
   },
   "outputs": [],
   "source": [
    "def higgsSommerfeldPath(file):\n",
    "    '''\n",
    "    Path to dark higgs Sommerfeld data\n",
    "    '''    \n",
    "    path = 'DarkPhotonCapture/SommerfeldData/' + file\n",
    "    return path\n",
    "    \n",
    "def higgsContourPath(file):\n",
    "    '''\n",
    "    Path to dark Higgs equilibrium time contour plots\n",
    "    '''\n",
    "    path = 'DarkHiggsCapture/ContourPlots/' + file\n",
    "    return path\n",
    "    \n",
    "# def higgsApproxPath(file):\n",
    "#     path = 'DarkHiggsCapture/ApproximationPlots/' + file\n",
    "#     return path\n",
    "\n",
    "def higgsSignalDataPath(file):\n",
    "    '''\n",
    "    Path to dark higgs Signal Rate Data files\n",
    "    '''\n",
    "    path = 'DarkHiggsCapture/SignalRateData/' + file\n",
    "    return path\n",
    "\n",
    "def higgsSignalPlotPath(file):\n",
    "    '''\n",
    "    Path to dark higgs Signal Rate Plots\n",
    "    '''\n",
    "    path = 'DarkHiggsCapture/SignalRatePlots/' + file\n",
    "    return path\n",
    "\n",
    "def higgsBranchPath(file):\n",
    "    '''\n",
    "    Path to dark higgs Branching Ratio Data\n",
    "    '''\n",
    "    path = 'DarkHiggsCapture/BranchingRatioData/' + file\n",
    "    return path\n",
    "\n"
   ]
  },
  {
   "cell_type": "markdown",
   "metadata": {},
   "source": [
    "## Unit Conversions"
   ]
  },
  {
   "cell_type": "markdown",
   "metadata": {},
   "source": [
    "Conversions taken from:\n",
    "\n",
    "http://www.saha.ac.in/theory/palashbaran.pal/conv.html"
   ]
  },
  {
   "cell_type": "code",
   "execution_count": 4,
   "metadata": {
    "ExecuteTime": {
     "end_time": "2017-09-26T15:17:43.829263Z",
     "start_time": "2017-09-26T15:17:43.755564Z"
    },
    "collapsed": true
   },
   "outputs": [],
   "source": [
    "def amu2GeV(par1):\n",
    "    '''\n",
    "    1 = 0.938272 GeV / Amu\n",
    "    '''\n",
    "#     return 0.9314941 * par1 # GeV\n",
    "    return 0.938272 * par1\n",
    "\n",
    "def amu2g(par1):\n",
    "    '''\n",
    "    1 = 1.66053892e-24 g / Amu\n",
    "    '''\n",
    "    return 1.66053892e-24 * par1 \n",
    "\n",
    "def GeV2s(par1):\n",
    "    '''\n",
    "    1 = 6.58e-25 GeV Sec\n",
    "    '''\n",
    "    return 1.52e24 * par1  \n",
    "\n",
    "def s2GeV(par1):\n",
    "    '''\n",
    "    1 = 6.58e-25 GeV Sec\n",
    "    '''\n",
    "    return (6.58e-25)**-1 * par1\n",
    "\n",
    "def GeV2cm(par1):\n",
    "    '''\n",
    "    1 = 1.97e-14 GeV cm\n",
    "    '''\n",
    "    return 5.06e13 * par1\n",
    "\n",
    "def cm2GeV(par1):\n",
    "    '''\n",
    "    1 = 1.97e-14 GeV cm\n",
    "\n",
    "    '''\n",
    "    return (0.197e-13)**-1 * par1 \n",
    "\n",
    "\n",
    "def KeltoGeV(par1):\n",
    "    '''\n",
    "    1 = 1.16e13 K / GeV\n",
    "    '''\n",
    "    return 8.62e-14 * par1 # GeV\n",
    "\n",
    "def yr2s(par1):\n",
    "    '''\n",
    "    1 = \n",
    "    '''\n",
    "    return (3.1536000e7) * par1 # s\n",
    "\n",
    "# def ev2Gev(par1):\n",
    "# #     return par1 * 10**6 # GeV\n",
    "#     return par1 * 10**9\n",
    "\n",
    "# def eV2kg(par1):\n",
    "#     return 1.782661845e-36 * par1 # kg\n",
    "\n",
    "def g2GeV(par1):\n",
    "#     return (1.8e-24)**-1 * par1 #GeV\n",
    "    return (5.62e23) * par1 #GeV\n"
   ]
  },
  {
   "cell_type": "markdown",
   "metadata": {},
   "source": [
    "## Atomic Data\n",
    "\n",
    "Atomic Data checks out: 8/25/17"
   ]
  },
  {
   "cell_type": "markdown",
   "metadata": {},
   "source": [
    "Below is a description of all the dictionaries in this section.\n",
    "\n",
    "1). elementList: A list of elements in the earth. The only reason this list exists is to be looped over\n",
    "\n",
    "2). atomicNumbers: Stores atomic mass of elements in amu\n",
    "\n",
    "3). nProtons: Stores the number of protons\n",
    "\n",
    "4). coreMassFrac: Mass fraction of elements in the core\n",
    "\n",
    "5). mantleMassFrac: Mass fraction of elements in the mantle"
   ]
  },
  {
   "cell_type": "code",
   "execution_count": 5,
   "metadata": {
    "ExecuteTime": {
     "end_time": "2017-09-26T15:17:45.879129Z",
     "start_time": "2017-09-26T15:17:45.835049Z"
    },
    "collapsed": true
   },
   "outputs": [],
   "source": [
    "\n",
    "################################################################################\n",
    "# Atomic Dictionary Definitions\n",
    "################################################################################\n",
    "\n",
    "elementList = [\n",
    "    'O16' ,\n",
    "#     'Na23',\n",
    "    'Mg24',\n",
    "    'Al27',\n",
    "    'Si28',\n",
    "    'P31' ,\n",
    "    'S32' ,\n",
    "    'Ca40',\n",
    "    'Cr52',\n",
    "    'Fe56',\n",
    "    'Ni58'\n",
    "]\n",
    "\n",
    "atomicNumbers = {\n",
    "    'O16' :16.,\n",
    "    'Na23':23.,\n",
    "    'Mg24':24., # 78%\n",
    "    'Al27':27.,\n",
    "    'Si28':28.,\n",
    "    'P31' :30.,\n",
    "    'S32' :32.,\n",
    "    'Ca40':40.,\n",
    "    'Cr52':52., # 83%\n",
    "    'Fe56':56.,\n",
    "    'Ni58':59., # 58%\n",
    "}\n",
    "\n",
    "nProtons = {\n",
    "    'O16' :8.,\n",
    "    'Na23':11.,\n",
    "    'Mg24':12., # 78%\n",
    "    'Al27':13.,\n",
    "    'Si28':14.,\n",
    "    'P31' :15.,\n",
    "    'S32' :16.,\n",
    "    'Ca40':20.,\n",
    "    'Cr52':24., # 83%\n",
    "    'Fe56':26.,\n",
    "    'Ni58':28., # 58%\n",
    "}\n",
    "\n",
    "coreMassFrac = {\n",
    "    'O16' : 0.0,\n",
    "    'Na23': 0.0,\n",
    "    'Mg24': 0.0,\n",
    "    'Al27': 0.0,\n",
    "    'Si28': 0.06,\n",
    "    'P31' : 0.002,\n",
    "    'S32' : 0.019,\n",
    "    'Ca40': 0.0,\n",
    "    'Cr52': 0.009,\n",
    "    'Fe56': 0.855,\n",
    "    'Ni58': 0.052,\n",
    "}\n",
    "\n",
    "\n",
    "mantleMassFrac = {\n",
    "    'O16' : 0.440,\n",
    "    'Na23': 0.0027,\n",
    "    'Mg24': 0.228,\n",
    "    'Al27': 0.0235,\n",
    "    'Si28': 0.210,\n",
    "    'P31' : 0.00009,\n",
    "    'S32' : 0.00025,\n",
    "    'Ca40': 0.0253,\n",
    "    'Cr52': 0.0026,\n",
    "    'Fe56': 0.0626,\n",
    "    'Ni58': 0.00196,\n",
    "}\n",
    "\n",
    "# print ('Complete')"
   ]
  },
  {
   "cell_type": "markdown",
   "metadata": {
    "collapsed": true
   },
   "source": [
    "## Model Paramters and Constants"
   ]
  },
  {
   "cell_type": "code",
   "execution_count": 12,
   "metadata": {
    "ExecuteTime": {
     "end_time": "2017-09-26T15:18:29.893783Z",
     "start_time": "2017-09-26T15:18:29.771961Z"
    },
    "collapsed": true
   },
   "outputs": [],
   "source": [
    "################################################################################\n",
    "# Constants\n",
    "################################################################################\n",
    "\n",
    "##########################\n",
    "# Used in Capture\n",
    "##########################\n",
    "global c\n",
    "global G\n",
    "global V_dot\n",
    "global V_cross\n",
    "global V_gal\n",
    "global u_0\n",
    "global k\n",
    "global n_X\n",
    "global mf\n",
    "global RCross\n",
    "global RCrit\n",
    "\n",
    "\n",
    "c = 3.0e10                          # cm/s\n",
    "G = 6.674e-11 * 100**3 * (1000)**-1 # cm^3/g s^2 \n",
    "V_dot = 220.0e5/c                   # Normalized to speed of light\n",
    "V_cross = 29.8e5/c                  # Normalized to speed of light\n",
    "V_gal = 550.0e5/c                   # Normalized to speed of light\n",
    "u_0 = 245.0e5/c                     # Normalized to speed of light\n",
    "k = 2.5                             # Dimensionless\n",
    "RCross = 6.738e8                    # cm \n",
    "RCrit = 3.48e8                      # cm (Core-Mantle separator)\n",
    "\n",
    "\n",
    "##########################\n",
    "# Used in Annihilation\n",
    "##########################\n",
    "global Gnat # G-Newton in natural units\n",
    "global rhoCross\n",
    "global TCross\n",
    "global tauCross\n",
    "\n",
    "Gnat = 6.71e-39        # GeV^-2\n",
    "rhoCross = 5.67e-17    # GeV^4\n",
    "TCross = 4.9134e-10    # GeV\n",
    "tauCross = yr2s(4.5e9) # sec\n",
    "\n",
    "\n",
    "##########################\n",
    "# Used in Signal Rates\n",
    "##########################\n",
    "\n",
    "# Thermal Relic\n",
    "def alphaTherm(m_X, m_A):\n",
    "#     '''\n",
    "#     This function sets alpha given the dark matter relic abundance\n",
    "#     '''\n",
    "    conversion = (5.06e13)**3/ (1.52e24) # cm^3 S -> GeV^-2\n",
    "    function = conversion * 2 * 2.2e-26 * (m_X**2/np.pi) \\\n",
    "    * (1 - 0.5*(m_A/m_X)**2)**2 / ((1 - (m_A/m_X)**2)**(3./2))\n",
    "    return np.sqrt(function)\n",
    "\n",
    "# Thermal Relic for m_X >> m_A Approximation\n",
    "def alphaThermApprox(m_X):\n",
    "#     '''\n",
    "#     This function sets alpha given the dark matter relic abundance in the m_X >> m_A limit\n",
    "#     '''\n",
    "    function = 2* 2.2e-26 * (5.06e13)**3/ (1.52e24) * (m_X**2/np.pi)\n",
    "    return np.sqrt(function)\n",
    "\n",
    "# print ('Complete')"
   ]
  },
  {
   "cell_type": "markdown",
   "metadata": {},
   "source": [
    "## Import Earth Data"
   ]
  },
  {
   "cell_type": "code",
   "execution_count": null,
   "metadata": {
    "ExecuteTime": {
     "end_time": "2017-09-05T22:06:44.634837Z",
     "start_time": "2017-09-05T22:06:44.565697Z"
    },
    "collapsed": true
   },
   "outputs": [],
   "source": [
    "# data = pd.read_csv('PREM500Adam.csv', sep = ',')\n",
    "data = pd.read_csv('PREM500jordan.csv', sep = ',')\n",
    "radiusTemp1 = data['Radius[m]']  # Radius in Meters\n",
    "densityTemp1 = data[['Density[kg/m^3]']] # Density in kg/m^3\n",
    "\n",
    "# # The interpolation function doesn't like these objects, so they need to be massaged into 1-D numpy arrays\n",
    "radiusListBadUnits = np.asarray(radiusTemp1).squeeze()\n",
    "densityListBadUnits = np.asarray(densityTemp1).squeeze()\n",
    "\n",
    "# Convert Units and trim off the zero-index value\n",
    "radiusList = radiusListBadUnits[1:] * 100 # cm\n",
    "densityList = densityListBadUnits[1:] * (100)**-3 * 1000 #  in g/cm^3\n",
    "\n",
    "\n",
    "# print ('Complete')"
   ]
  },
  {
   "cell_type": "markdown",
   "metadata": {
    "collapsed": true
   },
   "source": [
    "## Shell Thickness\n",
    "\n",
    "Verified 7/8/17"
   ]
  },
  {
   "cell_type": "code",
   "execution_count": null,
   "metadata": {
    "ExecuteTime": {
     "end_time": "2017-09-05T22:06:46.106568Z",
     "start_time": "2017-09-05T22:06:46.094570Z"
    },
    "collapsed": true
   },
   "outputs": [],
   "source": [
    "radius2 = radiusList[0:len(radiusList)-1]\n",
    "s = [0]\n",
    "for i in radius2:\n",
    "    s.append(i)\n",
    "\n",
    "deltaRList = radiusList[0:len(radiusList)] - s[0:len(s)]\n",
    "\n",
    "# print (deltaRList)\n",
    "\n",
    "# print ('Complete')"
   ]
  },
  {
   "cell_type": "markdown",
   "metadata": {},
   "source": [
    "## Shell Mass\n",
    "\n",
    "Verified 7/8/17"
   ]
  },
  {
   "cell_type": "code",
   "execution_count": null,
   "metadata": {
    "ExecuteTime": {
     "end_time": "2017-09-05T22:06:51.005345Z",
     "start_time": "2017-09-05T22:06:50.995318Z"
    },
    "collapsed": true
   },
   "outputs": [],
   "source": [
    "shellMassList = []\n",
    "xRange = range(0,len(radiusList))\n",
    "for i in xRange:\n",
    "    shellMassList.append(4 * np.pi * radiusList[i]**2 * densityList[i] * deltaRList[i])\n",
    "\n",
    "# print (shellMassList)\n",
    "    \n",
    "# print ('Complete')"
   ]
  },
  {
   "cell_type": "markdown",
   "metadata": {},
   "source": [
    "## Enclosed Mass\n",
    "\n",
    "Verified 7/8/17"
   ]
  },
  {
   "cell_type": "code",
   "execution_count": null,
   "metadata": {
    "ExecuteTime": {
     "end_time": "2017-09-05T22:06:52.000963Z",
     "start_time": "2017-09-05T22:06:51.993946Z"
    },
    "collapsed": true
   },
   "outputs": [],
   "source": [
    "enclosedMassList = []\n",
    "tempSum = 0\n",
    "for i in shellMassList:\n",
    "    tempSum = tempSum + i\n",
    "    enclosedMassList.append(tempSum)\n",
    "\n",
    "# print ('Complete')"
   ]
  },
  {
   "cell_type": "markdown",
   "metadata": {},
   "source": [
    "## Escape Velocity\n",
    "\n",
    "Verified 7/8/17"
   ]
  },
  {
   "cell_type": "code",
   "execution_count": null,
   "metadata": {
    "ExecuteTime": {
     "end_time": "2017-09-05T22:07:16.556627Z",
     "start_time": "2017-09-05T22:07:16.362685Z"
    },
    "collapsed": true
   },
   "outputs": [],
   "source": [
    "def accumulate(index):\n",
    "    '''\n",
    "    accumulate(index) returns the sum of \"summand\" staring at index \"index\" and ending at the \n",
    "    last element of the length of the data.\n",
    "    '''\n",
    "    factor = 2.*G/c**2\n",
    "    constant = max(enclosedMassList) / max(radiusList)\n",
    "    \n",
    "    if (index == 0):\n",
    "        tempSum = 0\n",
    "        \n",
    "    elif (index != 0):\n",
    "        tempSum = 0    \n",
    "        for i in range(index, len(radiusList)):\n",
    "            summand = enclosedMassList[i] * deltaRList[i] / (radiusList[i])**2\n",
    "            tempSum += summand\n",
    "    \n",
    "    return factor * (tempSum + constant)\n",
    "\n",
    "escVel2List = []\n",
    "for i in xRange:\n",
    "    escVel2List.append(accumulate(i))\n",
    "    \n",
    "escVel2List[0] = escVel2List[1]\n",
    "\n",
    "# print ('Complete')"
   ]
  },
  {
   "cell_type": "markdown",
   "metadata": {},
   "source": [
    "## Number Density\n",
    "We separate the earth into two chunks, the core and mantle separated at radius $r = 3.480 \\times\n",
    "10^8$cm. This occurs at index $i=270$.\n",
    "\n",
    "Verified 7/15/17"
   ]
  },
  {
   "cell_type": "code",
   "execution_count": null,
   "metadata": {
    "ExecuteTime": {
     "end_time": "2017-09-08T23:54:07.259807Z",
     "start_time": "2017-09-08T23:54:07.043376Z"
    },
    "collapsed": true
   },
   "outputs": [],
   "source": [
    "range1 = range(0,len(radiusList))\n",
    "mf = 0\n",
    "\n",
    "def numDensityList(element):\n",
    "    numDensityList = []\n",
    "    for i in range1:\n",
    "        \n",
    "        if radiusList[i] < RCrit:\n",
    "            mf = coreMassFrac[element]\n",
    "            \n",
    "        elif RCrit <= radiusList[i] <= RCross:\n",
    "            mf = mantleMassFrac[element]\n",
    "            \n",
    "        elif radiusList[i] > RCross:\n",
    "            mf = 0\n",
    "\n",
    "        ##########################################################\n",
    "        # [mf] = dimensionless\n",
    "        # [densityList] = g/cm^3\n",
    "        # [atomicNumbers] = dimensionless\n",
    "        # To make life easy, we just convert everything into GeV\n",
    "        #    => densityList -> g2GeV(densitylist)\n",
    "        #    => atomicNumbers -> amu2GeV(atomicNumbers)\n",
    "        \n",
    "        n_i = mf * g2GeV(densityList[i]) /(amu2GeV(atomicNumbers[element]))\n",
    "\n",
    "        numDensityList.append(n_i)\n",
    "        \n",
    "    return numDensityList\n",
    "\n",
    "# print ('Complete')"
   ]
  },
  {
   "cell_type": "markdown",
   "metadata": {},
   "source": [
    "## List Interpolations"
   ]
  },
  {
   "cell_type": "code",
   "execution_count": null,
   "metadata": {
    "collapsed": true
   },
   "outputs": [],
   "source": [
    "enclosedMassInterp = interpolate.interp1d(radiusList,enclosedMassList,kind='linear') # g\n",
    "escVel2Interp = interpolate.interp1d(radiusList,escVel2List,kind='linear') # Dimensionless\n",
    "densityInterp = interpolate.interp1d(radiusList,densityList,kind='linear') # g/cm^3\n",
    "\n",
    "# print ('Complete')"
   ]
  },
  {
   "cell_type": "markdown",
   "metadata": {
    "collapsed": true
   },
   "source": [
    "## Difference"
   ]
  },
  {
   "cell_type": "code",
   "execution_count": null,
   "metadata": {
    "collapsed": true
   },
   "outputs": [],
   "source": [
    "def difference(arg1, arg2):\n",
    "    '''\n",
    "    difference(arg1,arg2) gives the difference of the arguments with respect to arg1\n",
    "    '''\n",
    "    function = ((arg2-arg1)/arg1)\n",
    "    return function\n",
    "\n",
    "# print ('Complete')"
   ]
  },
  {
   "cell_type": "code",
   "execution_count": null,
   "metadata": {
    "collapsed": true
   },
   "outputs": [],
   "source": [
    "print ('------ MasterFunctions_ModelData Imported ------')"
   ]
  }
 ],
 "metadata": {
  "kernelspec": {
   "display_name": "Python 3",
   "language": "python",
   "name": "python3"
  },
  "language_info": {
   "codemirror_mode": {
    "name": "ipython",
    "version": 3
   },
   "file_extension": ".py",
   "mimetype": "text/x-python",
   "name": "python",
   "nbconvert_exporter": "python",
   "pygments_lexer": "ipython3",
   "version": "3.6.2"
  },
  "latex_envs": {
   "LaTeX_envs_menu_present": true,
   "autocomplete": true,
   "bibliofile": "biblio.bib",
   "cite_by": "apalike",
   "current_citInitial": 1,
   "eqLabelWithNumbers": true,
   "eqNumInitial": 1,
   "hotkeys": {
    "equation": "Ctrl-E",
    "itemize": "Ctrl-I"
   },
   "labels_anchors": false,
   "latex_user_defs": false,
   "report_style_numbering": false,
   "user_envs_cfg": false
  }
 },
 "nbformat": 4,
 "nbformat_minor": 2
}
