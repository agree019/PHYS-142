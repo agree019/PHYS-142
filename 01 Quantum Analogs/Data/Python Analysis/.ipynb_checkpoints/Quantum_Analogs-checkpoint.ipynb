{
 "cells": [
  {
   "cell_type": "markdown",
   "metadata": {},
   "source": [
    "# Quantum Analogs Data Analysis"
   ]
  },
  {
   "cell_type": "markdown",
   "metadata": {},
   "source": [
    "## Initialize Notebook\n",
    "\n",
    "    FINISH THIS CELL\n",
    "    \n",
    "    See masterfunction in DMCC Code"
   ]
  },
  {
   "cell_type": "code",
   "execution_count": 2,
   "metadata": {
    "ExecuteTime": {
     "end_time": "2018-01-22T15:57:45.677631Z",
     "start_time": "2018-01-22T15:57:39.932929Z"
    }
   },
   "outputs": [
    {
     "name": "stdout",
     "output_type": "stream",
     "text": [
      "Complete\n"
     ]
    }
   ],
   "source": [
    "import pandas as pd\n",
    "print ('Complete')"
   ]
  },
  {
   "cell_type": "markdown",
   "metadata": {
    "collapsed": true
   },
   "source": [
    "## Read data into Dictionary\n",
    "\n",
    "Need to read these in as pandas dataframes and store each dataframe in the dictionary"
   ]
  },
  {
   "cell_type": "code",
   "execution_count": 3,
   "metadata": {
    "ExecuteTime": {
     "end_time": "2018-01-22T15:57:47.206010Z",
     "start_time": "2018-01-22T15:57:47.133087Z"
    }
   },
   "outputs": [
    {
     "name": "stdout",
     "output_type": "stream",
     "text": [
      "Complete\n"
     ]
    }
   ],
   "source": [
    "dataDict = {\n",
    "    'freq1':[],\n",
    "    'freq2':[],\n",
    "    'freq3':[],\n",
    "    'freq4':[],\n",
    "    'freq5':[],\n",
    "    'freq6':[],\n",
    "    'freq7':[],\n",
    "    'freq8':[]\n",
    "}\n",
    "\n",
    "for i in (1,2,3,4,5,6,7,8):\n",
    "    readFile = 'Data/ResFreq_0'+str(i)+'.csv'\n",
    "    dataIn = pd.read_csv(readFile, sep = ',')\n",
    "    \n",
    "    dataDict['freq'+str(i)].append(dataIn)\n",
    "\n",
    "print ('Complete')"
   ]
  },
  {
   "cell_type": "markdown",
   "metadata": {},
   "source": [
    "## Access Data from Dictionary\n",
    "\n",
    "    readDict['freq2'][0]<Column Header>\n",
    "\n",
    "    Create arrays / dictionaries for everything\n",
    "    \n",
    "    Load it into memory in this cell"
   ]
  },
  {
   "cell_type": "code",
   "execution_count": 19,
   "metadata": {
    "ExecuteTime": {
     "end_time": "2018-01-22T16:04:11.730250Z",
     "start_time": "2018-01-22T16:04:11.628178Z"
    }
   },
   "outputs": [
    {
     "name": "stdout",
     "output_type": "stream",
     "text": [
      "Complete\n",
      "[458.0, 1146.0, 2291.0, 3679.0, 4962.0, 6202.0, 7409.0, 8017.0]\n"
     ]
    }
   ],
   "source": [
    "# print (readDict['freq3'][0]['Theta [Rad]'])\n",
    "\n",
    "resFreq = []\n",
    "xDataDict = {\n",
    "    'freq1':[],\n",
    "    'freq2':[],\n",
    "    'freq3':[],\n",
    "    'freq4':[],\n",
    "    'freq5':[],\n",
    "    'freq6':[],\n",
    "    'freq7':[],\n",
    "    'freq8':[]}\n",
    "yDataDict = {\n",
    "    'freq1':[],\n",
    "    'freq2':[],\n",
    "    'freq3':[],\n",
    "    'freq4':[],\n",
    "    'freq5':[],\n",
    "    'freq6':[],\n",
    "    'freq7':[],\n",
    "    'freq8':[]\n",
    "}\n",
    "\n",
    "for i in (1,2,3,4,5,6,7,8):\n",
    "    keyLoop = 'freq'+str(i)\n",
    "    \n",
    "    resFreq.append(dataDict[keyLoop][0]['Res Freq.'][0])\n",
    "    xData = dataDict[keyLoop][0]['Theta [Rad]']\n",
    "    yData = dataDict[keyLoop][0]['Amp. [Volt]']\n",
    "    \n",
    "    xDataDict[keyLoop].append(xData)\n",
    "    yDataDict[keyLoop].append(yData)\n",
    "\n",
    "# print (xDataDict)\n",
    "# print (yDataDict)\n",
    "# print (resFreq)\n",
    "    \n",
    "print ('Complete')    \n",
    "\n"
   ]
  },
  {
   "cell_type": "markdown",
   "metadata": {
    "collapsed": true
   },
   "source": [
    "## Plot Data\n",
    "\n",
    "I want to do this as a loop and plot all 8 individually, but I don't think I can.   \n"
   ]
  },
  {
   "cell_type": "code",
   "execution_count": 69,
   "metadata": {
    "ExecuteTime": {
     "end_time": "2018-01-22T06:38:36.126491Z",
     "start_time": "2018-01-22T06:38:36.118468Z"
    }
   },
   "outputs": [
    {
     "name": "stdout",
     "output_type": "stream",
     "text": [
      "0     3.141527\n",
      "1     3.018196\n",
      "2     2.895338\n",
      "3     2.773439\n",
      "4     2.653010\n",
      "5     2.534602\n",
      "6     2.418818\n",
      "7     2.306331\n",
      "8     2.197896\n",
      "9     2.094368\n",
      "10    1.996713\n",
      "11    1.906012\n",
      "12    1.823463\n",
      "13    1.750356\n",
      "14    1.688036\n",
      "15    1.637830\n",
      "16    1.600953\n",
      "17    1.578392\n",
      "18    1.570796\n",
      "Name: Theta [Rad], dtype: float64\n"
     ]
    }
   ],
   "source": []
  },
  {
   "cell_type": "code",
   "execution_count": null,
   "metadata": {
    "collapsed": true
   },
   "outputs": [],
   "source": [
    "## Plots\n"
   ]
  },
  {
   "cell_type": "code",
   "execution_count": 49,
   "metadata": {
    "ExecuteTime": {
     "end_time": "2018-01-22T06:27:26.336496Z",
     "start_time": "2018-01-22T06:27:26.314716Z"
    }
   },
   "outputs": [
    {
     "ename": "NameError",
     "evalue": "name 'plt' is not defined",
     "output_type": "error",
     "traceback": [
      "\u001b[1;31m---------------------------------------------------------------------------\u001b[0m",
      "\u001b[1;31mNameError\u001b[0m                                 Traceback (most recent call last)",
      "\u001b[1;32m<ipython-input-49-9f53d0a6818b>\u001b[0m in \u001b[0;36m<module>\u001b[1;34m()\u001b[0m\n\u001b[0;32m      1\u001b[0m \u001b[1;32mfor\u001b[0m \u001b[0mi\u001b[0m \u001b[1;32min\u001b[0m \u001b[1;33m(\u001b[0m\u001b[1;36m1\u001b[0m\u001b[1;33m,\u001b[0m\u001b[1;36m2\u001b[0m\u001b[1;33m,\u001b[0m\u001b[1;36m3\u001b[0m\u001b[1;33m,\u001b[0m\u001b[1;36m4\u001b[0m\u001b[1;33m,\u001b[0m\u001b[1;36m5\u001b[0m\u001b[1;33m,\u001b[0m\u001b[1;36m6\u001b[0m\u001b[1;33m,\u001b[0m\u001b[1;36m7\u001b[0m\u001b[1;33m,\u001b[0m\u001b[1;36m8\u001b[0m\u001b[1;33m)\u001b[0m\u001b[1;33m:\u001b[0m\u001b[1;33m\u001b[0m\u001b[0m\n\u001b[1;32m----> 2\u001b[1;33m     \u001b[0mfig\u001b[0m \u001b[1;33m=\u001b[0m \u001b[0mplt\u001b[0m\u001b[1;33m.\u001b[0m\u001b[0mfigure\u001b[0m\u001b[1;33m(\u001b[0m\u001b[0mfigsize\u001b[0m \u001b[1;33m=\u001b[0m \u001b[1;33m(\u001b[0m\u001b[1;36m6\u001b[0m\u001b[1;33m,\u001b[0m\u001b[1;36m6\u001b[0m\u001b[1;33m)\u001b[0m\u001b[1;33m)\u001b[0m\u001b[1;33m\u001b[0m\u001b[0m\n\u001b[0m\u001b[0;32m      3\u001b[0m     \u001b[0mPlot\u001b[0m \u001b[1;33m=\u001b[0m \u001b[0mplt\u001b[0m\u001b[1;33m.\u001b[0m\u001b[0mplot\u001b[0m\u001b[1;33m(\u001b[0m\u001b[1;33m)\u001b[0m\u001b[1;33m\u001b[0m\u001b[0m\n\u001b[0;32m      4\u001b[0m     \u001b[0mplt\u001b[0m\u001b[1;33m.\u001b[0m\u001b[0mylabel\u001b[0m\u001b[1;33m(\u001b[0m\u001b[1;34mr'Amplitude [Volt]'\u001b[0m\u001b[1;33m)\u001b[0m\u001b[1;33m\u001b[0m\u001b[0m\n\u001b[0;32m      5\u001b[0m     \u001b[0mplt\u001b[0m\u001b[1;33m.\u001b[0m\u001b[0mxlabel\u001b[0m\u001b[1;33m(\u001b[0m\u001b[1;34mr'$Polar Angle [Rad]$'\u001b[0m\u001b[1;33m)\u001b[0m\u001b[1;33m\u001b[0m\u001b[0m\n",
      "\u001b[1;31mNameError\u001b[0m: name 'plt' is not defined"
     ]
    }
   ],
   "source": [
    "for i in (1,2,3,4,5,6,7,8):\n",
    "    fig = plt.figure(figsize = (6,6))\n",
    "    Plot = plt.plot()\n",
    "    plt.ylabel(r'Amplitude [Volt]')\n",
    "    plt.xlabel(r'$Polar Angle [Rad]$')\n",
    "    plt.suptitle('Amplitude vs. Polar Angle ($\\theta$)',fontsize = '16')\n",
    "    plt.title(r'Resonant Frequency: {0}'.format(resFreq[i]),loc = 'right', fontsize = '14')\n",
    "    plt.grid()"
   ]
  },
  {
   "cell_type": "code",
   "execution_count": null,
   "metadata": {
    "collapsed": true
   },
   "outputs": [],
   "source": []
  },
  {
   "cell_type": "code",
   "execution_count": null,
   "metadata": {
    "collapsed": true
   },
   "outputs": [],
   "source": []
  }
 ],
 "metadata": {
  "kernelspec": {
   "display_name": "Python 3",
   "language": "python",
   "name": "python3"
  },
  "language_info": {
   "codemirror_mode": {
    "name": "ipython",
    "version": 3
   },
   "file_extension": ".py",
   "mimetype": "text/x-python",
   "name": "python",
   "nbconvert_exporter": "python",
   "pygments_lexer": "ipython3",
   "version": "3.6.2"
  },
  "latex_envs": {
   "LaTeX_envs_menu_present": true,
   "autocomplete": false,
   "bibliofile": "biblio.bib",
   "cite_by": "apalike",
   "current_citInitial": 1,
   "eqLabelWithNumbers": true,
   "eqNumInitial": 1,
   "hotkeys": {
    "equation": "Ctrl-E",
    "itemize": "Ctrl-I"
   },
   "labels_anchors": false,
   "latex_user_defs": false,
   "report_style_numbering": false,
   "user_envs_cfg": false
  }
 },
 "nbformat": 4,
 "nbformat_minor": 2
}
