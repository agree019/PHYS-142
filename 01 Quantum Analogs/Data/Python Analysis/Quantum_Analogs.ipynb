{
 "cells": [
  {
   "cell_type": "markdown",
   "metadata": {},
   "source": [
    "# Quantum Analogs Data Analysis"
   ]
  },
  {
   "cell_type": "markdown",
   "metadata": {},
   "source": [
    "## Initialize Notebook\n",
    "\n",
    "    FINISH THIS CELL\n",
    "    \n",
    "    See masterfunction in DMCC Code"
   ]
  },
  {
   "cell_type": "code",
   "execution_count": 12,
   "metadata": {
    "ExecuteTime": {
     "end_time": "2018-01-22T20:38:16.795552Z",
     "start_time": "2018-01-22T20:38:16.786532Z"
    }
   },
   "outputs": [
    {
     "name": "stdout",
     "output_type": "stream",
     "text": [
      "Complete\n"
     ]
    }
   ],
   "source": [
    "import numpy as np\n",
    "import pandas as pd\n",
    "import matplotlib.pyplot as plt\n",
    "%matplotlib inline\n",
    "\n",
    "print ('Complete')"
   ]
  },
  {
   "cell_type": "markdown",
   "metadata": {
    "collapsed": true
   },
   "source": [
    "## Read data into Dictionary\n",
    "\n",
    "Need to read these in as pandas dataframes and store each dataframe in the dictionary"
   ]
  },
  {
   "cell_type": "code",
   "execution_count": 2,
   "metadata": {
    "ExecuteTime": {
     "end_time": "2018-01-22T20:35:08.948234Z",
     "start_time": "2018-01-22T20:35:08.917155Z"
    }
   },
   "outputs": [
    {
     "name": "stdout",
     "output_type": "stream",
     "text": [
      "Complete\n"
     ]
    }
   ],
   "source": [
    "dataDict = {\n",
    "    'freq1':[],\n",
    "    'freq2':[],\n",
    "    'freq3':[],\n",
    "    'freq4':[],\n",
    "    'freq5':[],\n",
    "    'freq6':[],\n",
    "    'freq7':[],\n",
    "    'freq8':[]\n",
    "}\n",
    "\n",
    "for i in (1,2,3,4,5,6,7,8):\n",
    "    readFile = 'Data/ResFreq_0'+str(i)+'.csv'\n",
    "    dataIn = pd.read_csv(readFile, sep = ',')\n",
    "    \n",
    "    dataDict['freq'+str(i)].append(dataIn)\n",
    "\n",
    "print ('Complete')"
   ]
  },
  {
   "cell_type": "markdown",
   "metadata": {},
   "source": [
    "## Access Data from Dictionary\n",
    "\n",
    "    readDict['freq2'][0]<Column Header>\n",
    "\n",
    "    Create arrays / dictionaries for everything\n",
    "    \n",
    "    Load it into memory in this cell"
   ]
  },
  {
   "cell_type": "code",
   "execution_count": 3,
   "metadata": {
    "ExecuteTime": {
     "end_time": "2018-01-22T20:35:11.002922Z",
     "start_time": "2018-01-22T20:35:10.918702Z"
    }
   },
   "outputs": [
    {
     "name": "stdout",
     "output_type": "stream",
     "text": [
      "Complete\n"
     ]
    }
   ],
   "source": [
    "# print (readDict['freq3'][0]['Theta [Rad]'])\n",
    "\n",
    "resFreq = []\n",
    "xDataDict = {\n",
    "    'freq1':[],\n",
    "    'freq2':[],\n",
    "    'freq3':[],\n",
    "    'freq4':[],\n",
    "    'freq5':[],\n",
    "    'freq6':[],\n",
    "    'freq7':[],\n",
    "    'freq8':[]}\n",
    "yDataDict = {\n",
    "    'freq1':[],\n",
    "    'freq2':[],\n",
    "    'freq3':[],\n",
    "    'freq4':[],\n",
    "    'freq5':[],\n",
    "    'freq6':[],\n",
    "    'freq7':[],\n",
    "    'freq8':[]\n",
    "}\n",
    "\n",
    "for i in (1,2,3,4,5,6,7,8):\n",
    "    keyLoop = 'freq'+str(i)\n",
    "    \n",
    "    resFreq.append(dataDict[keyLoop][0]['Res Freq.'][0])\n",
    "    xData = dataDict[keyLoop][0]['Theta [Rad]']\n",
    "    yData = dataDict[keyLoop][0]['Amp. [Volt]']\n",
    "    \n",
    "    xDataDict[keyLoop].append(xData)\n",
    "    yDataDict[keyLoop].append(yData)\n",
    "\n",
    "# print (xDataDict)\n",
    "# print (yDataDict)\n",
    "# print (resFreq)\n",
    "    \n",
    "print ('Complete')    \n",
    "\n"
   ]
  },
  {
   "cell_type": "markdown",
   "metadata": {
    "collapsed": true
   },
   "source": [
    "## Plot Data\n",
    "\n",
    "I want to do this as a loop and plot all 8 individually, but I don't think I can.   \n",
    "\n",
    "    plt.scatter(xData1,yData1)\n",
    "\n"
   ]
  },
  {
   "cell_type": "code",
   "execution_count": 26,
   "metadata": {
    "ExecuteTime": {
     "end_time": "2018-01-22T20:44:03.867161Z",
     "start_time": "2018-01-22T20:44:03.361908Z"
    }
   },
   "outputs": [
    {
     "data": {
      "image/png": "[encoded data removed]",
      "text/plain": [
       "<matplotlib.figure.Figure at 0x26645ddbcc0>"
      ]
     },
     "metadata": {},
     "output_type": "display_data"
    }
   ],
   "source": [
    "xData1 = xDataDict['freq1']\n",
    "yData1 = yDataDict['freq1']\n",
    "\n",
    "# print (xData1)\n",
    "# print (yData1)\n",
    "\n",
    "title = 'Amplitude vs. Theta'\n",
    "def subTitle(number):\n",
    "    return 'Resonant Frequency: {0} Hz'.format(number)\n",
    "\n",
    "\n",
    "Fig = plt.figure(figsize = (6,6))\n",
    "Plot = plt.scatter(xData1,yData1)\n",
    "plt.suptitle('{0}'.format(title), fontsize = 16)\n",
    "plt.title('{0}'.format(subTitle(1162)), loc = 'left', fontsize = 14)\n",
    "plt.xlabel(r'Polar Angle', fontsize = 12)\n",
    "plt.ylabel(r'Amplitude [Volt]', fontsize = 12)\n",
    "plt.grid()"
   ]
  },
  {
   "cell_type": "code",
   "execution_count": null,
   "metadata": {
    "collapsed": true
   },
   "outputs": [],
   "source": [
    "## Plots\n"
   ]
  },
  {
   "cell_type": "code",
   "execution_count": null,
   "metadata": {
    "ExecuteTime": {
     "end_time": "2018-01-22T06:27:26.336496Z",
     "start_time": "2018-01-22T06:27:26.314716Z"
    }
   },
   "outputs": [],
   "source": [
    "for i in (1,2,3,4,5,6,7,8):\n",
    "    fig = plt.figure(figsize = (6,6))\n",
    "    Plot = plt.plot()\n",
    "    plt.ylabel(r'Amplitude [Volt]')\n",
    "    plt.xlabel(r'$Polar Angle [Rad]$')\n",
    "    plt.suptitle('Amplitude vs. Polar Angle ($\\theta$)',fontsize = '16')\n",
    "    plt.title(r'Resonant Frequency: {0}'.format(resFreq[i]),loc = 'right', fontsize = '14')\n",
    "    plt.grid()"
   ]
  },
  {
   "cell_type": "code",
   "execution_count": null,
   "metadata": {
    "collapsed": true
   },
   "outputs": [],
   "source": []
  },
  {
   "cell_type": "code",
   "execution_count": null,
   "metadata": {
    "collapsed": true
   },
   "outputs": [],
   "source": []
  }
 ],
 "metadata": {
  "kernelspec": {
   "display_name": "Python 3",
   "language": "python",
   "name": "python3"
  },
  "language_info": {
   "codemirror_mode": {
    "name": "ipython",
    "version": 3
   },
   "file_extension": ".py",
   "mimetype": "text/x-python",
   "name": "python",
   "nbconvert_exporter": "python",
   "pygments_lexer": "ipython3",
   "version": "3.6.2"
  },
  "latex_envs": {
   "LaTeX_envs_menu_present": true,
   "autocomplete": false,
   "bibliofile": "biblio.bib",
   "cite_by": "apalike",
   "current_citInitial": 1,
   "eqLabelWithNumbers": true,
   "eqNumInitial": 1,
   "hotkeys": {
    "equation": "Ctrl-E",
    "itemize": "Ctrl-I"
   },
   "labels_anchors": false,
   "latex_user_defs": false,
   "report_style_numbering": false,
   "user_envs_cfg": false
  }
 },
 "nbformat": 4,
 "nbformat_minor": 2
}
