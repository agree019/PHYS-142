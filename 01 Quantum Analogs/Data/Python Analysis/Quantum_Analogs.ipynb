{
 "cells": [
  {
   "cell_type": "markdown",
   "metadata": {},
   "source": [
    "# Quantum Analogs Data Analysis"
   ]
  },
  {
   "cell_type": "markdown",
   "metadata": {},
   "source": [
    "## Initialize Notebook\n",
    "\n",
    "    FINISH THIS CELL\n",
    "    \n",
    "    See masterfunction in DMCC Code"
   ]
  },
  {
   "cell_type": "code",
   "execution_count": 66,
   "metadata": {
    "ExecuteTime": {
     "end_time": "2018-01-22T06:38:08.905734Z",
     "start_time": "2018-01-22T06:38:08.900185Z"
    }
   },
   "outputs": [
    {
     "name": "stdout",
     "output_type": "stream",
     "text": [
      "Complete\n"
     ]
    }
   ],
   "source": [
    "import pandas as pd\n",
    "print ('Complete')"
   ]
  },
  {
   "cell_type": "markdown",
   "metadata": {
    "collapsed": true
   },
   "source": [
    "## Read data into Dictionary\n",
    "\n",
    "Need to read these in as pandas dataframes and store each dataframe in the dictionary"
   ]
  },
  {
   "cell_type": "code",
   "execution_count": 67,
   "metadata": {
    "ExecuteTime": {
     "end_time": "2018-01-22T06:38:09.535547Z",
     "start_time": "2018-01-22T06:38:09.498357Z"
    }
   },
   "outputs": [
    {
     "name": "stdout",
     "output_type": "stream",
     "text": [
      "Complete\n"
     ]
    }
   ],
   "source": [
    "dataDict = {\n",
    "    'freq1':[],\n",
    "    'freq2':[],\n",
    "    'freq3':[],\n",
    "    'freq4':[],\n",
    "    'freq5':[],\n",
    "    'freq6':[],\n",
    "    'freq7':[],\n",
    "    'freq8':[]\n",
    "}\n",
    "\n",
    "for i in (1,2,3,4,5,6,7,8):\n",
    "    readFile = 'Data/ResFreq_0'+str(i)+'.csv'\n",
    "    dataIn = pd.read_csv(readFile, sep = ',')\n",
    "    \n",
    "    dataDict['freq'+str(i)].append(dataIn)\n",
    "\n",
    "print ('Complete')"
   ]
  },
  {
   "cell_type": "markdown",
   "metadata": {},
   "source": [
    "## Access Data from Dictionary\n",
    "\n",
    "    readDict['freq2'][0]<Column Header>\n",
    "\n",
    "    Create arrays / dictionaries for everything\n",
    "    \n",
    "    Load it into memory in this cell"
   ]
  },
  {
   "cell_type": "code",
   "execution_count": 72,
   "metadata": {
    "ExecuteTime": {
     "end_time": "2018-01-22T06:39:20.579605Z",
     "start_time": "2018-01-22T06:39:20.529965Z"
    }
   },
   "outputs": [
    {
     "name": "stdout",
     "output_type": "stream",
     "text": [
      "0     3.141527\n",
      "1     3.018196\n",
      "2     2.895338\n",
      "3     2.773439\n",
      "4     2.653010\n",
      "5     2.534602\n",
      "6     2.418818\n",
      "7     2.306331\n",
      "8     2.197896\n",
      "9     2.094368\n",
      "10    1.996713\n",
      "11    1.906012\n",
      "12    1.823463\n",
      "13    1.750356\n",
      "14    1.688036\n",
      "15    1.637830\n",
      "16    1.600953\n",
      "17    1.578392\n",
      "18    1.570796\n",
      "Name: Theta [Rad], dtype: float64\n",
      "   Res Freq.\\tTheta [Rad]\\tAmp. [Volt]\\tError [Volt]\n",
      "0                   458\\t3.141527138\\t0.1037\\t0.0025\n",
      "1                      \\t3.018195906\\t0.1026\\t0.0025\n",
      "2                      \\t2.895337948\\t0.0978\\t0.0025\n",
      "3                       \\t2.773438929\\t0.0933\\t0.002\n",
      "4                       \\t2.653010101\\t0.0895\\t0.002\n",
      "5                       \\t2.534601848\\t0.0848\\t0.002\n",
      "6                       \\t2.418817969\\t0.0798\\t0.002\n",
      "7                       \\t2.306330691\\t0.0733\\t0.001\n",
      "8                       \\t2.197896004\\t0.0706\\t0.001\n",
      "9                       \\t2.094368356\\t0.0697\\t0.001\n",
      "10                      \\t1.996712891\\t0.0684\\t0.001\n",
      "11                      \\t1.906012162\\t0.0672\\t0.001\n",
      "12                       \\t1.82346277\\t0.0672\\t0.001\n",
      "13                      \\t1.750355994\\t0.0669\\t0.001\n",
      "14                      \\t1.688035882\\t0.0665\\t0.001\n",
      "15                      \\t1.637829956\\t0.0662\\t0.001\n",
      "16                      \\t1.600952826\\t0.0662\\t0.001\n",
      "17                      \\t1.578392076\\t0.0714\\t0.001\n",
      "18                      \\t1.570796327\\t0.0707\\t0.001\n",
      "    Res Freq.  Theta [Rad]  Amp. [Volt]  Error [Volt]\n",
      "0      1146.0     3.141527       0.0842        0.0010\n",
      "1         NaN     3.018196       0.0823        0.0015\n",
      "2         NaN     2.895338       0.0821        0.0015\n",
      "3         NaN     2.773439       0.0819        0.0015\n",
      "4         NaN     2.653010       0.0725        0.0010\n",
      "5         NaN     2.534602       0.0742        0.0010\n",
      "6         NaN     2.418818       0.0660        0.0010\n",
      "7         NaN     2.306331       0.0514        0.0010\n",
      "8         NaN     2.197896       0.0513        0.0010\n",
      "9         NaN     2.094368       0.0492        0.0010\n",
      "10        NaN     1.996713       0.0462        0.0010\n",
      "11        NaN     1.906012       0.0403        0.0015\n",
      "12        NaN     1.823463       0.0382        0.0010\n",
      "13        NaN     1.750356       0.0417        0.0010\n",
      "14        NaN     1.688036       0.0404        0.0010\n",
      "15        NaN     1.637830       0.0405        0.0010\n",
      "16        NaN     1.600953       0.0394        0.0010\n",
      "17        NaN     1.578392       0.0403        0.0010\n",
      "18        NaN     1.570796       0.0398        0.0010\n",
      "    Res Freq.  Theta [Rad]  Amp. [Volt]  Error [Volt]\n",
      "0      2291.0     3.141527     6.655172           NaN\n",
      "1         NaN     3.018196     6.682759           NaN\n",
      "2         NaN     2.895338     6.613793           NaN\n",
      "3         NaN     2.773439     6.410345           NaN\n",
      "4         NaN     2.653010     5.837931           NaN\n",
      "5         NaN     2.534602     5.444828           NaN\n",
      "6         NaN     2.418818     4.079310           NaN\n",
      "7         NaN     2.306331     3.179310           NaN\n",
      "8         NaN     2.197896     3.248276           NaN\n",
      "9         NaN     2.094368     3.068966           NaN\n",
      "10        NaN     1.996713     3.210345           NaN\n",
      "11        NaN     1.906012     3.434483           NaN\n",
      "12        NaN     1.823463     3.975862           NaN\n",
      "13        NaN     1.750356     4.396552           NaN\n",
      "14        NaN     1.688036     4.555172           NaN\n",
      "15        NaN     1.637830     4.775862           NaN\n",
      "16        NaN     1.600953     4.975862           NaN\n",
      "17        NaN     1.578392     4.979310           NaN\n",
      "18        NaN     1.570796     4.879310           NaN\n",
      "    Res Freq.  Theta [Rad]  Amp. [Volt]  Error [Volt]\n",
      "0      3679.0     3.141527    19.068966           NaN\n",
      "1         NaN     3.018196    19.000000           NaN\n",
      "2         NaN     2.895338    19.068966           NaN\n",
      "3         NaN     2.773439    18.965517           NaN\n",
      "4         NaN     2.653010    18.896552           NaN\n",
      "5         NaN     2.534602    17.689655           NaN\n",
      "6         NaN     2.418818    10.793103           NaN\n",
      "7         NaN     2.306331     9.758621           NaN\n",
      "8         NaN     2.197896     4.586207           NaN\n",
      "9         NaN     2.094368     1.334483           NaN\n",
      "10        NaN     1.996713     4.172414           NaN\n",
      "11        NaN     1.906012     6.206897           NaN\n",
      "12        NaN     1.823463     9.551724           NaN\n",
      "13        NaN     1.750356    15.344828           NaN\n",
      "14        NaN     1.688036    14.827586           NaN\n",
      "15        NaN     1.637830    15.793103           NaN\n",
      "16        NaN     1.600953    15.620690           NaN\n",
      "17        NaN     1.578392    15.655172           NaN\n",
      "18        NaN     1.570796    15.862069           NaN\n",
      "    Res Freq.  Theta [Rad]  Amp. [Volt]  Error [Volt]\n",
      "0      4962.0     3.141527    23.344828           NaN\n",
      "1         NaN     3.018196    23.275862           NaN\n",
      "2         NaN     2.895338    23.068966           NaN\n",
      "3         NaN     2.773439    22.137931           NaN\n",
      "4         NaN     2.653010    15.862069           NaN\n",
      "5         NaN     2.534602     5.420690           NaN\n",
      "6         NaN     2.418818     7.517241           NaN\n",
      "7         NaN     2.306331    16.586207           NaN\n",
      "8         NaN     2.197896    21.344828           NaN\n",
      "9         NaN     2.094368    23.034483           NaN\n",
      "10        NaN     1.996713    23.172414           NaN\n",
      "11        NaN     1.906012    21.965517           NaN\n",
      "12        NaN     1.823463    16.689655           NaN\n",
      "13        NaN     1.750356    12.517241           NaN\n",
      "14        NaN     1.688036     6.634483           NaN\n",
      "15        NaN     1.637830     2.155172           NaN\n",
      "16        NaN     1.600953     2.113793           NaN\n",
      "17        NaN     1.578392     7.413793           NaN\n",
      "18        NaN     1.570796     6.313793           NaN\n",
      "    Res Freq.  Theta [Rad]  Amp. [Volt]  Error [Volt]\n",
      "0      6202.0     3.141527    25.758621           NaN\n",
      "1         NaN     3.018196    25.000000           NaN\n",
      "2         NaN     2.895338    17.344828           NaN\n",
      "3         NaN     2.773439     7.448276           NaN\n",
      "4         NaN     2.653010     3.003448           NaN\n",
      "5         NaN     2.534602    10.379310           NaN\n",
      "6         NaN     2.418818    14.344828           NaN\n",
      "7         NaN     2.306331    15.620690           NaN\n",
      "8         NaN     2.197896    13.965517           NaN\n",
      "9         NaN     2.094368     8.827586           NaN\n",
      "10        NaN     1.996713     3.234483           NaN\n",
      "11        NaN     1.906012     6.931034           NaN\n",
      "12        NaN     1.823463     8.620690           NaN\n",
      "13        NaN     1.750356     9.344828           NaN\n",
      "14        NaN     1.688036     8.655172           NaN\n",
      "15        NaN     1.637830     7.586207           NaN\n",
      "16        NaN     1.600953     6.482759           NaN\n",
      "17        NaN     1.578392     4.862069           NaN\n",
      "18        NaN     1.570796     4.413793           NaN\n",
      "    Res Freq.  Theta [Rad]  Amp. [Volt]  Error [Volt]\n",
      "0      7409.0     3.141527    27.793103           NaN\n",
      "1         NaN     3.018196    24.310345           NaN\n",
      "2         NaN     2.895338    16.379310           NaN\n",
      "3         NaN     2.773439     3.896552           NaN\n",
      "4         NaN     2.653010     7.310345           NaN\n",
      "5         NaN     2.534602    13.827586           NaN\n",
      "6         NaN     2.418818    14.655172           NaN\n",
      "7         NaN     2.306331    10.758621           NaN\n",
      "8         NaN     2.197896     4.034483           NaN\n",
      "9         NaN     2.094368     3.313793           NaN\n",
      "10        NaN     1.996713     8.448276           NaN\n",
      "11        NaN     1.906012    10.413793           NaN\n",
      "12        NaN     1.823463     9.758621           NaN\n",
      "13        NaN     1.750356     7.172414           NaN\n",
      "14        NaN     1.688036     4.586207           NaN\n",
      "15        NaN     1.637830     0.441379           NaN\n",
      "16        NaN     1.600953     1.813793           NaN\n",
      "17        NaN     1.578392     3.482759           NaN\n",
      "18        NaN     1.570796     3.724138           NaN\n",
      "    Res Freq.  Theta [Rad]  Amp. [Volt]  Error [Volt]\n",
      "0      8017.0     3.141527    13.862069           NaN\n",
      "1         NaN     3.018196    13.310345           NaN\n",
      "2         NaN     2.895338    12.137931           NaN\n",
      "3         NaN     2.773439    10.379310           NaN\n",
      "4         NaN     2.653010     8.275862           NaN\n",
      "5         NaN     2.534602     5.793103           NaN\n",
      "6         NaN     2.418818     3.931034           NaN\n",
      "7         NaN     2.306331     2.941379           NaN\n",
      "8         NaN     2.197896     3.620690           NaN\n",
      "9         NaN     2.094368     2.251724           NaN\n",
      "10        NaN     1.996713     5.034483           NaN\n",
      "11        NaN     1.906012     2.700000           NaN\n",
      "12        NaN     1.823463     2.962069           NaN\n",
      "13        NaN     1.750356     3.279310           NaN\n",
      "14        NaN     1.688036     5.689655           NaN\n",
      "15        NaN     1.637830     3.862069           NaN\n",
      "16        NaN     1.600953     3.965517           NaN\n",
      "17        NaN     1.578392     4.034483           NaN\n",
      "18        NaN     1.570796     4.172414           NaN\n",
      "Complete\n"
     ]
    }
   ],
   "source": [
    "print (readDict['freq3'][0]['Theta [Rad]'])\n",
    "\n",
    "resFreq = []\n",
    "xData = {\n",
    "    'freq1':[],\n",
    "    'freq2':[],\n",
    "    'freq3':[],\n",
    "    'freq4':[],\n",
    "    'freq5':[],\n",
    "    'freq6':[],\n",
    "    'freq7':[],\n",
    "    'freq8':[]}\n",
    "yData = {\n",
    "    'freq1':[],\n",
    "    'freq2':[],\n",
    "    'freq3':[],\n",
    "    'freq4':[],\n",
    "    'freq5':[],\n",
    "    'freq6':[],\n",
    "    'freq7':[],\n",
    "    'freq8':[]\n",
    "}\n",
    "\n",
    "for i in (1,2,3,4,5,6,7,8):\n",
    "    keyLoop = 'freq'+str(i)\n",
    "    print (readDict[keyLoop][0])\n",
    "#     print (readDict['freq'+str(i)][0]['Theta [Rad]'])\n",
    "#     xData['freq'+str(i)] = readDict['freq'+str(i)][0]['Theta [Rad]']\n",
    "#     yData['freq'+str(i)] = readDict['freq'+str(i)][0]['Amplitude [Volt]']\n",
    "    \n",
    "print ('Complete')    "
   ]
  },
  {
   "cell_type": "markdown",
   "metadata": {
    "collapsed": true
   },
   "source": [
    "## Plot Data\n",
    "\n",
    "I want to do this as a loop and plot all 8 individually, but I don't think I can\n",
    "\n",
    "Access Data as:\n",
    "    \n"
   ]
  },
  {
   "cell_type": "code",
   "execution_count": 69,
   "metadata": {
    "ExecuteTime": {
     "end_time": "2018-01-22T06:38:36.126491Z",
     "start_time": "2018-01-22T06:38:36.118468Z"
    }
   },
   "outputs": [
    {
     "name": "stdout",
     "output_type": "stream",
     "text": [
      "0     3.141527\n",
      "1     3.018196\n",
      "2     2.895338\n",
      "3     2.773439\n",
      "4     2.653010\n",
      "5     2.534602\n",
      "6     2.418818\n",
      "7     2.306331\n",
      "8     2.197896\n",
      "9     2.094368\n",
      "10    1.996713\n",
      "11    1.906012\n",
      "12    1.823463\n",
      "13    1.750356\n",
      "14    1.688036\n",
      "15    1.637830\n",
      "16    1.600953\n",
      "17    1.578392\n",
      "18    1.570796\n",
      "Name: Theta [Rad], dtype: float64\n"
     ]
    }
   ],
   "source": [
    "print (readDict['freq2'][0]['Theta [Rad]'])"
   ]
  },
  {
   "cell_type": "code",
   "execution_count": null,
   "metadata": {
    "collapsed": true
   },
   "outputs": [],
   "source": [
    "## Plots\n"
   ]
  },
  {
   "cell_type": "code",
   "execution_count": 49,
   "metadata": {
    "ExecuteTime": {
     "end_time": "2018-01-22T06:27:26.336496Z",
     "start_time": "2018-01-22T06:27:26.314716Z"
    }
   },
   "outputs": [
    {
     "ename": "NameError",
     "evalue": "name 'plt' is not defined",
     "output_type": "error",
     "traceback": [
      "\u001b[1;31m---------------------------------------------------------------------------\u001b[0m",
      "\u001b[1;31mNameError\u001b[0m                                 Traceback (most recent call last)",
      "\u001b[1;32m<ipython-input-49-9f53d0a6818b>\u001b[0m in \u001b[0;36m<module>\u001b[1;34m()\u001b[0m\n\u001b[0;32m      1\u001b[0m \u001b[1;32mfor\u001b[0m \u001b[0mi\u001b[0m \u001b[1;32min\u001b[0m \u001b[1;33m(\u001b[0m\u001b[1;36m1\u001b[0m\u001b[1;33m,\u001b[0m\u001b[1;36m2\u001b[0m\u001b[1;33m,\u001b[0m\u001b[1;36m3\u001b[0m\u001b[1;33m,\u001b[0m\u001b[1;36m4\u001b[0m\u001b[1;33m,\u001b[0m\u001b[1;36m5\u001b[0m\u001b[1;33m,\u001b[0m\u001b[1;36m6\u001b[0m\u001b[1;33m,\u001b[0m\u001b[1;36m7\u001b[0m\u001b[1;33m,\u001b[0m\u001b[1;36m8\u001b[0m\u001b[1;33m)\u001b[0m\u001b[1;33m:\u001b[0m\u001b[1;33m\u001b[0m\u001b[0m\n\u001b[1;32m----> 2\u001b[1;33m     \u001b[0mfig\u001b[0m \u001b[1;33m=\u001b[0m \u001b[0mplt\u001b[0m\u001b[1;33m.\u001b[0m\u001b[0mfigure\u001b[0m\u001b[1;33m(\u001b[0m\u001b[0mfigsize\u001b[0m \u001b[1;33m=\u001b[0m \u001b[1;33m(\u001b[0m\u001b[1;36m6\u001b[0m\u001b[1;33m,\u001b[0m\u001b[1;36m6\u001b[0m\u001b[1;33m)\u001b[0m\u001b[1;33m)\u001b[0m\u001b[1;33m\u001b[0m\u001b[0m\n\u001b[0m\u001b[0;32m      3\u001b[0m     \u001b[0mPlot\u001b[0m \u001b[1;33m=\u001b[0m \u001b[0mplt\u001b[0m\u001b[1;33m.\u001b[0m\u001b[0mplot\u001b[0m\u001b[1;33m(\u001b[0m\u001b[1;33m)\u001b[0m\u001b[1;33m\u001b[0m\u001b[0m\n\u001b[0;32m      4\u001b[0m     \u001b[0mplt\u001b[0m\u001b[1;33m.\u001b[0m\u001b[0mylabel\u001b[0m\u001b[1;33m(\u001b[0m\u001b[1;34mr'Amplitude [Volt]'\u001b[0m\u001b[1;33m)\u001b[0m\u001b[1;33m\u001b[0m\u001b[0m\n\u001b[0;32m      5\u001b[0m     \u001b[0mplt\u001b[0m\u001b[1;33m.\u001b[0m\u001b[0mxlabel\u001b[0m\u001b[1;33m(\u001b[0m\u001b[1;34mr'$Polar Angle [Rad]$'\u001b[0m\u001b[1;33m)\u001b[0m\u001b[1;33m\u001b[0m\u001b[0m\n",
      "\u001b[1;31mNameError\u001b[0m: name 'plt' is not defined"
     ]
    }
   ],
   "source": [
    "for i in (1,2,3,4,5,6,7,8):\n",
    "    fig = plt.figure(figsize = (6,6))\n",
    "    Plot = plt.plot()\n",
    "    plt.ylabel(r'Amplitude [Volt]')\n",
    "    plt.xlabel(r'$Polar Angle [Rad]$')\n",
    "    plt.suptitle('Amplitude vs. Polar Angle ($\\theta$)',fontsize = '16')\n",
    "    plt.title(r'Resonant Frequency: {0}'.format(resFreq[i]),loc = 'right', fontsize = '14')\n",
    "    plt.grid()"
   ]
  },
  {
   "cell_type": "code",
   "execution_count": null,
   "metadata": {
    "collapsed": true
   },
   "outputs": [],
   "source": []
  },
  {
   "cell_type": "code",
   "execution_count": null,
   "metadata": {
    "collapsed": true
   },
   "outputs": [],
   "source": []
  }
 ],
 "metadata": {
  "kernelspec": {
   "display_name": "Python 3",
   "language": "python",
   "name": "python3"
  },
  "language_info": {
   "codemirror_mode": {
    "name": "ipython",
    "version": 3
   },
   "file_extension": ".py",
   "mimetype": "text/x-python",
   "name": "python",
   "nbconvert_exporter": "python",
   "pygments_lexer": "ipython3",
   "version": "3.6.2"
  },
  "latex_envs": {
   "LaTeX_envs_menu_present": true,
   "autocomplete": false,
   "bibliofile": "biblio.bib",
   "cite_by": "apalike",
   "current_citInitial": 1,
   "eqLabelWithNumbers": true,
   "eqNumInitial": 1,
   "hotkeys": {
    "equation": "Ctrl-E",
    "itemize": "Ctrl-I"
   },
   "labels_anchors": false,
   "latex_user_defs": false,
   "report_style_numbering": false,
   "user_envs_cfg": false
  }
 },
 "nbformat": 4,
 "nbformat_minor": 2
}
